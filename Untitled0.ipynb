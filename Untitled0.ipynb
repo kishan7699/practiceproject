{
  "cells": [
    {
      "cell_type": "code",
      "execution_count": 1,
      "metadata": {
        "id": "sFr4n59sDcwy"
      },
      "outputs": [],
      "source": [
        "!cd /content/drive/MyDrive"
      ]
    },
    {
      "cell_type": "code",
      "execution_count": null,
      "metadata": {
        "colab": {
          "base_uri": "https://localhost:8080/"
        },
        "id": "6mS6kxCaN24z",
        "outputId": "99ecbc70-d0bc-452c-e90f-524de9368d9b"
      },
      "outputs": [
        {
          "output_type": "stream",
          "name": "stdout",
          "text": [
            "Drive already mounted at /content/drive; to attempt to forcibly remount, call drive.mount(\"/content/drive\", force_remount=True).\n"
          ]
        }
      ],
      "source": [
        "from google.colab import drive\n",
        "drive.mount('/content/drive')"
      ]
    },
    {
      "cell_type": "code",
      "execution_count": 2,
      "metadata": {
        "id": "AXIEd0igE7Wz"
      },
      "outputs": [],
      "source": [
        "from zipfile import ZipFile\n",
        "with ZipFile('/content/drive/MyDrive/dogs-vs-cats.zip','r') as zipobj:\n",
        "  zipobj.extractall()\n",
        "with ZipFile('train.zip','r') as zipobj:\n",
        "  zipobj.extractall()\n",
        "with ZipFile('test1.zip','r') as zipobj:\n",
        "  zipobj.extractall()\n",
        "\n",
        "\n",
        "\n"
      ]
    },
    {
      "cell_type": "code",
      "execution_count": 3,
      "metadata": {
        "id": "Ux0xj3Y7SwKv"
      },
      "outputs": [],
      "source": [
        "from os import makedirs\n",
        "dataset_home='dataset_dogs_vs_cats/'\n",
        "subdirs=['train/','test/']\n",
        "for subdir in subdirs:\n",
        "  labeldirs=['dogs/','cats/']\n",
        "  for labldirs in labeldirs:\n",
        "    new_dir=dataset_home + subdir + labldirs\n",
        "    makedirs(new_dir,exist_ok=True)\n"
      ]
    },
    {
      "cell_type": "code",
      "source": [
        "!cp -av '/gdrive/My Drive/FOLDER_PATH' '/gdrive/My Drive/DESTINATION_PATH"
      ],
      "metadata": {
        "id": "CKb4VJ2vk8q5"
      },
      "execution_count": null,
      "outputs": []
    },
    {
      "cell_type": "code",
      "source": [
        "!curl -s https://raw.githubusercontent.com/sivel/speedtest-cli/master/speedtest.py | python -"
      ],
      "metadata": {
        "colab": {
          "base_uri": "https://localhost:8080/"
        },
        "id": "OjCPtgthlLFO",
        "outputId": "b5d68335-457d-404f-b30e-09454704d9e5"
      },
      "execution_count": null,
      "outputs": [
        {
          "output_type": "stream",
          "name": "stdout",
          "text": [
            "Retrieving speedtest.net configuration...\n",
            "Testing from Google Cloud (35.204.11.94)...\n",
            "Retrieving speedtest.net server list...\n",
            "Selecting best server based on ping...\n",
            "Hosted by Netprotect (Amsterdam) [146.76 km]: 7.518 ms\n",
            "Testing download speed................................................................................\n",
            "Download: 1585.36 Mbit/s\n",
            "Testing upload speed......................................................................................................\n",
            "Upload: 723.59 Mbit/s\n"
          ]
        }
      ]
    },
    {
      "cell_type": "code",
      "source": [
        "!curl -s http://checkip.amazonaws.com"
      ],
      "metadata": {
        "colab": {
          "base_uri": "https://localhost:8080/"
        },
        "id": "CxnvixoLlbV1",
        "outputId": "85d0cf40-efe9-4611-8231-7142632baa0f"
      },
      "execution_count": null,
      "outputs": [
        {
          "output_type": "stream",
          "name": "stdout",
          "text": [
            "35.204.11.94\n"
          ]
        }
      ]
    },
    {
      "cell_type": "code",
      "source": [
        ""
      ],
      "metadata": {
        "id": "c1bRJw56ly9A"
      },
      "execution_count": null,
      "outputs": []
    },
    {
      "cell_type": "code",
      "metadata": {
        "id": "MGWDn6j3gc_o"
      },
      "source": [
        "!cp -av '/content/dataset_dogs_vs_cats' '/content/drive/MyDrive'"
      ],
      "execution_count": null,
      "outputs": []
    },
    {
      "cell_type": "code",
      "source": [
        "pip list | grep Keras"
      ],
      "metadata": {
        "colab": {
          "base_uri": "https://localhost:8080/"
        },
        "id": "lBnup35lNYzj",
        "outputId": "800eaaf2-d181-4def-cde1-3fa2c21f5577"
      },
      "execution_count": 14,
      "outputs": [
        {
          "output_type": "stream",
          "name": "stdout",
          "text": [
            "Keras-Preprocessing           1.1.2\n"
          ]
        }
      ]
    },
    {
      "cell_type": "code",
      "source": [
        "pip install keras --upgrade"
      ],
      "metadata": {
        "colab": {
          "base_uri": "https://localhost:8080/"
        },
        "id": "Kj7uFxyfOE5y",
        "outputId": "9b756e9a-c560-4804-89cf-9c364c342c5d"
      },
      "execution_count": 15,
      "outputs": [
        {
          "output_type": "stream",
          "name": "stdout",
          "text": [
            "Requirement already satisfied: keras in /usr/local/lib/python3.7/dist-packages (2.8.0)\n"
          ]
        }
      ]
    },
    {
      "cell_type": "code",
      "source": [
        "pip list | grep Keras"
      ],
      "metadata": {
        "colab": {
          "base_uri": "https://localhost:8080/"
        },
        "id": "WVSHQVQZOMNK",
        "outputId": "99f7e43b-0ed2-4901-9c13-ad0e82c48682"
      },
      "execution_count": 16,
      "outputs": [
        {
          "output_type": "stream",
          "name": "stdout",
          "text": [
            "Keras-Preprocessing           1.1.2\n"
          ]
        }
      ]
    },
    {
      "cell_type": "code",
      "execution_count": 6,
      "metadata": {
        "id": "JJGOXrJ_T88G"
      },
      "outputs": [],
      "source": [
        "import os\n",
        "import shutil\n",
        "shutil.rmtree('/content/dataset_dogs_vs_cats') #deletes a directory and all its contents."
      ]
    },
    {
      "cell_type": "code",
      "execution_count": null,
      "metadata": {
        "id": "rBWxEmjVVdZ8"
      },
      "outputs": [],
      "source": [
        "shutil.rmtree('/content/train') #deletes a directory and all its contents."
      ]
    },
    {
      "cell_type": "code",
      "execution_count": 4,
      "metadata": {
        "id": "PB2_DEFoVvd5"
      },
      "outputs": [],
      "source": [
        "from os import listdir\n",
        "from shutil import copyfile\n",
        "from random import seed ,random\n",
        "seed(1)\n",
        "val_ratio=0.25\n",
        "src_directory='train'\n",
        "dataset_home='dataset_dogs_vs_cats/'\n",
        "for file in listdir(src_directory):\n",
        "  src=src_directory+'/'+file\n",
        "  dst_dir='train/'\n",
        "  if random()<val_ratio:\n",
        "    dst_dir='test/'\n",
        "  if file.startswith('cat'):\n",
        "    dst=dataset_home+dst_dir+'cats/'+file\n",
        "    copyfile(src,dst)\n",
        "  elif file.startswith ('dog'):\n",
        "    dst=dataset_home+dst_dir+'dogs/'+file\n",
        "    copyfile(src,dst) \n"
      ]
    },
    {
      "cell_type": "markdown",
      "source": [
        "prepare model for transfer learning"
      ],
      "metadata": {
        "id": "maF6E9Ud-H3u"
      }
    },
    {
      "cell_type": "code",
      "source": [
        "from keras.layers.advanced_activations import ReLU\n",
        "from keras.applications.vgg16 import VGG16\n",
        "from keras.models import Model\n",
        "from keras.layers import Dense\n",
        "from keras.layers import Flatten\n",
        "from keras.optimizers import gradient_descent_v2\n",
        "from keras.preprocessing.image import ImageDataGenerator\n",
        "model=VGG16(include_top=False,input_shape=(224,224,3))\n",
        "for layer in model.layers:\n",
        "  layer.trainable=False\n",
        "flat1 =Flatten()(model.layers[-1].output)  \n",
        "class1=Dense(128,activation='relu',kernel_initializer='he_uniform')(flat1)\n",
        "output=Dense(1,activation='sigmoid')(class1)\n",
        "model=Model(inputs=model.inputs,outputs=output)\n",
        "opt=gradient_descent_v2.SGD(learning_rate=0.001,momentum=0.9)\n",
        "model.compile(optimizer=opt,loss='binary_crossentropy',metrics=['accuracy'])"
      ],
      "metadata": {
        "id": "3NLSkPsm-PAn",
        "colab": {
          "base_uri": "https://localhost:8080/"
        },
        "outputId": "8d3bfa86-2af9-4846-a81d-aedb38bef612"
      },
      "execution_count": 10,
      "outputs": [
        {
          "output_type": "stream",
          "name": "stdout",
          "text": [
            "Downloading data from https://storage.googleapis.com/tensorflow/keras-applications/vgg16/vgg16_weights_tf_dim_ordering_tf_kernels_notop.h5\n",
            "58892288/58889256 [==============================] - 0s 0us/step\n",
            "58900480/58889256 [==============================] - 0s 0us/step\n"
          ]
        }
      ]
    },
    {
      "cell_type": "code",
      "source": [
        "datagen=ImageDataGenerator(featurewise_center=True)\n",
        "datagen.mean=[123.68,116.779,103.939]\n",
        "train_it=datagen.flow__from_directory('dataset_dogs_vs_cats/train/',\n",
        "     class_mode='binary',batch_size=64,target_size=(224,224))  \n",
        "test_it=datagen.flow__from_directory('dataset_dogs_vs_cats/test/',\n",
        "     class_mode='binary',batch_size=64,target_size=(224,224))  \n",
        "history=model.fit_generator(train_it,steps_per_epoch=len(train_it),\n",
        "            validation_data=test_it, validation_steps=len(test_it),epoch=5,verbose=1)"
      ],
      "metadata": {
        "colab": {
          "base_uri": "https://localhost:8080/",
          "height": 234
        },
        "id": "luL2yqEs36UR",
        "outputId": "06d02d1b-a3d4-4244-f151-2ddb8110db1d"
      },
      "execution_count": 13,
      "outputs": [
        {
          "output_type": "error",
          "ename": "AttributeError",
          "evalue": "ignored",
          "traceback": [
            "\u001b[0;31m---------------------------------------------------------------------------\u001b[0m",
            "\u001b[0;31mAttributeError\u001b[0m                            Traceback (most recent call last)",
            "\u001b[0;32m<ipython-input-13-014d9f4a93f8>\u001b[0m in \u001b[0;36m<module>\u001b[0;34m()\u001b[0m\n\u001b[1;32m      1\u001b[0m \u001b[0mdatagen\u001b[0m\u001b[0;34m=\u001b[0m\u001b[0mImageDataGenerator\u001b[0m\u001b[0;34m(\u001b[0m\u001b[0mfeaturewise_center\u001b[0m\u001b[0;34m=\u001b[0m\u001b[0;32mTrue\u001b[0m\u001b[0;34m)\u001b[0m\u001b[0;34m\u001b[0m\u001b[0;34m\u001b[0m\u001b[0m\n\u001b[1;32m      2\u001b[0m \u001b[0mdatagen\u001b[0m\u001b[0;34m.\u001b[0m\u001b[0mmean\u001b[0m\u001b[0;34m=\u001b[0m\u001b[0;34m[\u001b[0m\u001b[0;36m123.68\u001b[0m\u001b[0;34m,\u001b[0m\u001b[0;36m116.779\u001b[0m\u001b[0;34m,\u001b[0m\u001b[0;36m103.939\u001b[0m\u001b[0;34m]\u001b[0m\u001b[0;34m\u001b[0m\u001b[0;34m\u001b[0m\u001b[0m\n\u001b[0;32m----> 3\u001b[0;31m train_it=datagen.flow__from_directory('dataset_dogs_vs_cats/train/',\n\u001b[0m\u001b[1;32m      4\u001b[0m      class_mode='binary',batch_size=64,target_size=(224,224))  \n\u001b[1;32m      5\u001b[0m test_it=datagen.flow__from_directory('dataset_dogs_vs_cats/test/',\n",
            "\u001b[0;31mAttributeError\u001b[0m: 'ImageDataGenerator' object has no attribute 'flow__from_directory'"
          ]
        }
      ]
    },
    {
      "cell_type": "code",
      "source": [
        "!pip uninstall keras-preprocessing\n",
        "!pip install git+"
      ],
      "metadata": {
        "colab": {
          "base_uri": "https://localhost:8080/"
        },
        "id": "rEKjdZjGRmJ7",
        "outputId": "e7a94aec-780a-4db0-d9c8-ba65c1a8d0b5"
      },
      "execution_count": 22,
      "outputs": [
        {
          "output_type": "stream",
          "name": "stdout",
          "text": [
            "Found existing installation: Keras-Preprocessing 1.1.2\n",
            "Uninstalling Keras-Preprocessing-1.1.2:\n",
            "  Would remove:\n",
            "    /usr/local/lib/python3.7/dist-packages/Keras_Preprocessing-1.1.2.dist-info/*\n",
            "    /usr/local/lib/python3.7/dist-packages/keras_preprocessing/*\n",
            "Proceed (y/n)? y\n",
            "  Successfully uninstalled Keras-Preprocessing-1.1.2\n",
            "\u001b[31mERROR: Invalid requirement: 'git+'\u001b[0m\n"
          ]
        }
      ]
    },
    {
      "cell_type": "code",
      "source": [
        "import matplotlib.pyplot as pyplot\n",
        "import sys\n",
        "pyplot.subplot(211)\n",
        "pyplot.title('Cross Entropy Loss')\n",
        "pyplot.plot(history.history['loss'],color=blue,label='train')\n",
        "pyplot.plot(history.history['val_loss'],color='orange',label='test')\n",
        "pyplot.subplot(212)\n",
        "pyplot.title('Classification Accuracy')\n",
        "pyplot.plot(history.history['accuracy'],color='blue',label='train')\n",
        "pyplot.plot(history.history['val_accuracy'],color='orange',label='test')\n",
        "filename=sys.argv[0].split('/')[-1]\n",
        "pyplot.savefig(filename+'_plot.png')"
      ],
      "metadata": {
        "id": "Ac46ejI_-CBi"
      },
      "execution_count": null,
      "outputs": []
    },
    {
      "cell_type": "code",
      "source": [
        "model.save('final_model.h5')"
      ],
      "metadata": {
        "id": "kYYIurBoDQgi"
      },
      "execution_count": null,
      "outputs": []
    },
    {
      "cell_type": "code",
      "source": [
        "from keras.preprocessing.image import load_img\n",
        "from keras.preprocessing.image import img_to_array\n",
        "from keras.models import load_model\n",
        "img=load.img('/content/drive/MyDrive/dataset_dogs_vs_cats/test/dogs/dog.10070.jpg',target_size=(224,224))\n",
        "img=img_to_array(img)\n",
        "img=img.reshape(1,224,224,3)\n",
        "img=img.astype('Float32')\n",
        "img=img-[123.68,116.779,103.939]"
      ],
      "metadata": {
        "id": "V96A8u63F5sS"
      },
      "execution_count": null,
      "outputs": []
    },
    {
      "cell_type": "code",
      "source": [
        "result=model.predict(img)\n",
        "print(result[0])"
      ],
      "metadata": {
        "id": "jCuhVuFIHf-y"
      },
      "execution_count": null,
      "outputs": []
    }
  ],
  "metadata": {
    "colab": {
      "name": "Untitled0.ipynb",
      "provenance": [],
      "collapsed_sections": []
    },
    "kernelspec": {
      "display_name": "Python 3",
      "name": "python3"
    },
    "language_info": {
      "name": "python"
    }
  },
  "nbformat": 4,
  "nbformat_minor": 0
}